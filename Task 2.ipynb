{
 "cells": [
  {
   "cell_type": "markdown",
   "id": "f470640a-a181-42e3-a396-31f719835b2c",
   "metadata": {},
   "source": [
    "## Lists"
   ]
  },
  {
   "cell_type": "markdown",
   "id": "3e33b6c1-8519-4dc5-9448-452af3f6709b",
   "metadata": {},
   "source": [
    "### 1- Use list indexing to determine how many days are in a particular month based on the integer variable month, and store that value in the integer variable num_days. For example, if month is 8, num_days should be set to 31, since the eighth month, August, has 31 days.\n",
    "\n",
    "Remember to account for zero-based indexing!"
   ]
  },
  {
   "cell_type": "code",
   "execution_count": null,
   "id": "38c83321-1022-46ed-b10e-53b20947106a",
   "metadata": {},
   "outputs": [],
   "source": [
    "month = 8\n",
    "days_in_month = [31,28,31,30,31,30,31,31,30,31,30,31]\n",
    "\n",
    "# use list indexing to determine the number of days in month\n",
    "num_days = days_in_month[month-1]\n",
    "month=8\n",
    "print(num_days)\n",
    "\n"
   ]
  },
  {
   "cell_type": "markdown",
   "id": "8ff33144-8515-4a29-acca-a382f0323f45",
   "metadata": {},
   "source": [
    "### Slicing Lists"
   ]
  },
  {
   "cell_type": "markdown",
   "id": "55d73547-be35-424f-b9b2-272a03e4f42b",
   "metadata": {},
   "source": [
    "### 2- Select the three most recent dates from this list using list slicing notation. Hint: negative indexes work in slices!"
   ]
  },
  {
   "cell_type": "code",
   "id": "ae886cc7-ca81-43f5-8bdc-1bc810f32eaa",
   "metadata": {
    "jupyter": {
     "is_executing": true
    }
   },
   "source": [
    "eclipse_dates = ['June 21, 2001', 'December 4, 2002', 'November 23, 2003',\n",
    "                 'March 29, 2006', 'August 1, 2008', 'July 22, 2009',\n",
    "                 'July 11, 2010', 'November 13, 2012', 'March 20, 2015',\n",
    "                 'March 9, 2016']\n",
    "recent_eclipse_dates=eclipse_dates[-3:]\n",
    "print(recent_eclipse_dates)"
   ],
   "outputs": [],
   "execution_count": null
  },
  {
   "cell_type": "markdown",
   "id": "1201fdfb-133f-4edc-a3c3-0587030ce1c9",
   "metadata": {},
   "source": [
    "### 3-  Define a Dictionary, population,that provides information on the world's largest cities.The key is the name of a city(a string), and the associated value is its population in millions of people.\n",
    "\n",
    "####   Key          |   Value\n",
    "#### Shanghai  |   17.8\n",
    "#### Istanbul  |   13.3\n",
    "#### Karachi   |   13.0\n",
    "#### Mumbai    |   12.5"
   ]
  },
  {
   "cell_type": "code",
   "execution_count": null,
   "id": "f877f8ce-d5a1-421d-8269-c7eb2fb345de",
   "metadata": {},
   "outputs": [],
   "source": [
    "population={\"shanghai\":17.8 ,\"istanbul\":13.3 ,\"karachi\":13.0 ,\"mumbai\":12.5}\n",
    "print(population)"
   ]
  },
  {
   "cell_type": "markdown",
   "id": "bf7b5dfc-7fe2-4f32-8f2e-bf0f4117c821",
   "metadata": {},
   "source": [
    "### 4-In the code editor below, you'll find a dictionary containing the unique words of verse stored as keys and the number of times they appear in verse stored as values. Use this dictionary to answer the following questions. Submit these answers in the quiz below the code editor.\n",
    "\n",
    "Try to answer these using code, rather than inspecting the dictionary manually!\n",
    "\n",
    "How many unique words are in verse_dict?\n",
    "Is the key \"breathe\" in verse_dict?\n",
    "What is the first element in the list created when verse_dict is sorted by keys?\n",
    "Hint: Use the appropriate dictionary method to get a list of its keys, and then sort that list. Use this list of keys to answer the next two questions as well.\n",
    "Which key (word) has the highest value in verse_dict? "
   ]
  },
  {
   "cell_type": "code",
   "execution_count": null,
   "id": "33839de1-6dca-40cc-83ba-0c603c136cd9",
   "metadata": {},
   "outputs": [],
   "source": [
    "verse_dict =  {'if': 3, 'you': 6, 'can': 3, 'keep': 1, 'your': 1, 'head': 1, 'when': 2, 'all': 2, 'about': 2, 'are': 1, 'losing': 1, 'theirs': 1, 'and': 3, 'blaming': 1, 'it': 1, 'on': 1, 'trust': 1, 'yourself': 1, 'men': 1, 'doubt': 1, 'but': 1, 'make': 1, 'allowance': 1, 'for': 1, 'their': 1, 'doubting': 1, 'too': 3, 'wait': 1, 'not': 1, 'be': 1, 'tired': 1, 'by': 1, 'waiting': 1, 'or': 2, 'being': 2, 'lied': 1, 'don\\'t': 3, 'deal': 1, 'in': 1, 'lies': 1, 'hated': 1, 'give': 1, 'way': 1, 'to': 1, 'hating': 1, 'yet': 1, 'look': 1, 'good': 1, 'nor': 1, 'talk': 1, 'wise': 1}\n",
    "print(verse_dict, '\\n')\n",
    "\n",
    "\n",
    "# find number of unique keys in the dictionary\n",
    "num_of_unique_words=len(verse_dict)\n",
    "print(num_of_unique_words)\n",
    "# find whether 'breathe' is a key in the dictionary\n",
    "print('breathe'in verse_dict)\n",
    "\n",
    "# create and sort a list of the dictionary's keys\n",
    "keys_list=list(verse_dict.keys())\n",
    "sorted_keys_list=sorted(keys_list)\n",
    "print(sorted_keys_list)\n",
    "\n",
    "# get the first element in the sorted list of keys\n",
    "first_sort=sorted_keys_list[0]\n",
    "print(first_sort)\n",
    "\n",
    "# find the element with the highest value in the list of keys\n",
    "highest_value_word=max(verse_dict)\n",
    "print(highest_value_word)"
   ]
  },
  {
   "cell_type": "code",
   "execution_count": null,
   "id": "74b8077e-ec4d-458e-981e-8f4ebbf03978",
   "metadata": {},
   "outputs": [],
   "source": [
    "#ADD 4 Functions For the data structures types from https://docs.python.org/3/tutorial/datastructures.html"
   ]
  },
  {
   "cell_type": "code",
   "execution_count": null,
   "id": "c97f4186-13e7-4f39-9843-f0d9bbb8548c",
   "metadata": {},
   "outputs": [],
   "source": [
    "#1.append()\n",
    "name_list=['Mohamed' ,'Ali','Omar']\n",
    "name_list.append('sally')\n",
    "print(name_list)\n",
    "#2.get()\n",
    "my_dict={\"name\":\" AmaR \",\"age\":29,'city':\"tanta\"}\n",
    "print(my_dict.get('age'))\n",
    "#3.remove()\n",
    "my_set=[1,2,3,4,5]\n",
    "my_set.remove(3)\n",
    "print(my_set)\n",
    "#4.the same dictionary above we use .key() like :\n",
    "my_dict={\"name\":\" AmaR \",\"age\":29,'city':\"tanta\"}\n",
    "print(my_dict.keys())"
   ]
  },
  {
   "cell_type": "code",
   "execution_count": null,
   "id": "4ac2c7a3-4f26-468b-9976-e4cf20617fc2",
   "metadata": {},
   "outputs": [],
   "source": []
  },
  {
   "cell_type": "code",
   "execution_count": null,
   "id": "e2aa960f-b498-4bfc-91ff-4021cb9c1141",
   "metadata": {},
   "outputs": [],
   "source": []
  }
 ],
 "metadata": {
  "kernelspec": {
   "display_name": "Python 3 (ipykernel)",
   "language": "python",
   "name": "python3"
  },
  "language_info": {
   "codemirror_mode": {
    "name": "ipython",
    "version": 3
   },
   "file_extension": ".py",
   "mimetype": "text/x-python",
   "name": "python",
   "nbconvert_exporter": "python",
   "pygments_lexer": "ipython3",
   "version": "3.11.2"
  }
 },
 "nbformat": 4,
 "nbformat_minor": 5
}
