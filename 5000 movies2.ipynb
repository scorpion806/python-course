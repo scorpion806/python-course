{
 "cells": [
  {
   "cell_type": "markdown",
   "id": "93888fd4",
   "metadata": {},
   "source": [
    "## Final Project\n",
    "### In order to solve this set of questions you will use the dataset in the relative directory ./tmdb_5000_movies.csv\n"
   ]
  },
  {
   "cell_type": "code",
   "execution_count": 1,
   "id": "8127e1af",
   "metadata": {},
   "outputs": [],
   "source": [
    "\n",
    "import numpy as np\n",
    "import pandas as pd\n",
    "\n",
    "\n",
    "import seaborn as sns\n",
    "import matplotlib.pyplot as plt\n",
    "\n",
    "\n",
    "%matplotlib inline\n",
    "\n",
    "\n",
    "\n",
    "\n",
    "\n",
    "\n"
   ]
  },
  {
   "cell_type": "code",
   "execution_count": 2,
   "id": "5eed1da5-c6fe-4307-a14a-472c98feab83",
   "metadata": {},
   "outputs": [
    {
     "name": "stdout",
     "output_type": "stream",
     "text": [
      "Requirement already satisfied: seaborn in c:\\users\\lapshop\\appdata\\local\\programs\\python\\python313\\lib\\site-packages (0.13.2)\n",
      "Requirement already satisfied: numpy!=1.24.0,>=1.20 in c:\\users\\lapshop\\appdata\\local\\programs\\python\\python313\\lib\\site-packages (from seaborn) (2.2.3)\n",
      "Requirement already satisfied: pandas>=1.2 in c:\\users\\lapshop\\appdata\\local\\programs\\python\\python313\\lib\\site-packages (from seaborn) (2.2.3)\n",
      "Requirement already satisfied: matplotlib!=3.6.1,>=3.4 in c:\\users\\lapshop\\appdata\\local\\programs\\python\\python313\\lib\\site-packages (from seaborn) (3.10.1)\n",
      "Requirement already satisfied: contourpy>=1.0.1 in c:\\users\\lapshop\\appdata\\local\\programs\\python\\python313\\lib\\site-packages (from matplotlib!=3.6.1,>=3.4->seaborn) (1.3.1)\n",
      "Requirement already satisfied: cycler>=0.10 in c:\\users\\lapshop\\appdata\\local\\programs\\python\\python313\\lib\\site-packages (from matplotlib!=3.6.1,>=3.4->seaborn) (0.12.1)\n",
      "Requirement already satisfied: fonttools>=4.22.0 in c:\\users\\lapshop\\appdata\\local\\programs\\python\\python313\\lib\\site-packages (from matplotlib!=3.6.1,>=3.4->seaborn) (4.56.0)\n",
      "Requirement already satisfied: kiwisolver>=1.3.1 in c:\\users\\lapshop\\appdata\\local\\programs\\python\\python313\\lib\\site-packages (from matplotlib!=3.6.1,>=3.4->seaborn) (1.4.8)\n",
      "Requirement already satisfied: packaging>=20.0 in c:\\users\\lapshop\\appdata\\local\\programs\\python\\python313\\lib\\site-packages (from matplotlib!=3.6.1,>=3.4->seaborn) (24.2)\n",
      "Requirement already satisfied: pillow>=8 in c:\\users\\lapshop\\appdata\\local\\programs\\python\\python313\\lib\\site-packages (from matplotlib!=3.6.1,>=3.4->seaborn) (11.1.0)\n",
      "Requirement already satisfied: pyparsing>=2.3.1 in c:\\users\\lapshop\\appdata\\local\\programs\\python\\python313\\lib\\site-packages (from matplotlib!=3.6.1,>=3.4->seaborn) (3.2.1)\n",
      "Requirement already satisfied: python-dateutil>=2.7 in c:\\users\\lapshop\\appdata\\local\\programs\\python\\python313\\lib\\site-packages (from matplotlib!=3.6.1,>=3.4->seaborn) (2.9.0.post0)\n",
      "Requirement already satisfied: pytz>=2020.1 in c:\\users\\lapshop\\appdata\\local\\programs\\python\\python313\\lib\\site-packages (from pandas>=1.2->seaborn) (2025.1)\n",
      "Requirement already satisfied: tzdata>=2022.7 in c:\\users\\lapshop\\appdata\\local\\programs\\python\\python313\\lib\\site-packages (from pandas>=1.2->seaborn) (2025.1)\n",
      "Requirement already satisfied: six>=1.5 in c:\\users\\lapshop\\appdata\\local\\programs\\python\\python313\\lib\\site-packages (from python-dateutil>=2.7->matplotlib!=3.6.1,>=3.4->seaborn) (1.17.0)\n"
     ]
    }
   ],
   "source": [
    "!pip install seaborn\n"
   ]
  },
  {
   "cell_type": "markdown",
   "id": "c615f1dd-ae4e-434e-a1f8-fbedd5ddb47b",
   "metadata": {},
   "source": [
    "## Final Project\n",
    "### In order to solve this set of questions you will use the dataset in the relative directory ./tmdb_5000_movies.csv\n"
   ]
  },
  {
   "cell_type": "markdown",
   "id": "10389df5",
   "metadata": {},
   "source": [
    "### Open Your CSV file and print the first 10 rows in a good format ###"
   ]
  },
  {
   "cell_type": "code",
   "execution_count": 3,
   "id": "d5b09cac",
   "metadata": {},
   "outputs": [],
   "source": [
    "df = pd.read_csv('./tmdb_5000_movies.csv')"
   ]
  },
  {
   "cell_type": "code",
   "execution_count": 4,
   "id": "c40bbad8",
   "metadata": {},
   "outputs": [
    {
     "name": "stdout",
     "output_type": "stream",
     "text": [
      "      budget                                             genres  \\\n",
      "0  237000000  [{\"id\": 28, \"name\": \"Action\"}, {\"id\": 12, \"nam...   \n",
      "1  300000000  [{\"id\": 12, \"name\": \"Adventure\"}, {\"id\": 14, \"...   \n",
      "2  245000000  [{\"id\": 28, \"name\": \"Action\"}, {\"id\": 12, \"nam...   \n",
      "3  250000000  [{\"id\": 28, \"name\": \"Action\"}, {\"id\": 80, \"nam...   \n",
      "4  260000000  [{\"id\": 28, \"name\": \"Action\"}, {\"id\": 12, \"nam...   \n",
      "5  258000000  [{\"id\": 14, \"name\": \"Fantasy\"}, {\"id\": 28, \"na...   \n",
      "6  260000000  [{\"id\": 16, \"name\": \"Animation\"}, {\"id\": 10751...   \n",
      "7  280000000  [{\"id\": 28, \"name\": \"Action\"}, {\"id\": 12, \"nam...   \n",
      "8  250000000  [{\"id\": 12, \"name\": \"Adventure\"}, {\"id\": 14, \"...   \n",
      "9  250000000  [{\"id\": 28, \"name\": \"Action\"}, {\"id\": 12, \"nam...   \n",
      "\n",
      "                                            homepage      id  \\\n",
      "0                        http://www.avatarmovie.com/   19995   \n",
      "1       http://disney.go.com/disneypictures/pirates/     285   \n",
      "2        http://www.sonypictures.com/movies/spectre/  206647   \n",
      "3                 http://www.thedarkknightrises.com/   49026   \n",
      "4               http://movies.disney.com/john-carter   49529   \n",
      "5    http://www.sonypictures.com/movies/spider-man3/     559   \n",
      "6       http://disney.go.com/disneypictures/tangled/   38757   \n",
      "7  http://marvel.com/movies/movie/193/avengers_ag...   99861   \n",
      "8  http://harrypotter.warnerbros.com/harrypottera...     767   \n",
      "9       http://www.batmanvsupermandawnofjustice.com/  209112   \n",
      "\n",
      "                                            keywords original_language  \\\n",
      "0  [{\"id\": 1463, \"name\": \"culture clash\"}, {\"id\":...                en   \n",
      "1  [{\"id\": 270, \"name\": \"ocean\"}, {\"id\": 726, \"na...                en   \n",
      "2  [{\"id\": 470, \"name\": \"spy\"}, {\"id\": 818, \"name...                en   \n",
      "3  [{\"id\": 849, \"name\": \"dc comics\"}, {\"id\": 853,...                en   \n",
      "4  [{\"id\": 818, \"name\": \"based on novel\"}, {\"id\":...                en   \n",
      "5  [{\"id\": 851, \"name\": \"dual identity\"}, {\"id\": ...                en   \n",
      "6  [{\"id\": 1562, \"name\": \"hostage\"}, {\"id\": 2343,...                en   \n",
      "7  [{\"id\": 8828, \"name\": \"marvel comic\"}, {\"id\": ...                en   \n",
      "8  [{\"id\": 616, \"name\": \"witch\"}, {\"id\": 2343, \"n...                en   \n",
      "9  [{\"id\": 849, \"name\": \"dc comics\"}, {\"id\": 7002...                en   \n",
      "\n",
      "                             original_title  \\\n",
      "0                                    Avatar   \n",
      "1  Pirates of the Caribbean: At World's End   \n",
      "2                                   Spectre   \n",
      "3                     The Dark Knight Rises   \n",
      "4                               John Carter   \n",
      "5                              Spider-Man 3   \n",
      "6                                   Tangled   \n",
      "7                   Avengers: Age of Ultron   \n",
      "8    Harry Potter and the Half-Blood Prince   \n",
      "9        Batman v Superman: Dawn of Justice   \n",
      "\n",
      "                                            overview  popularity  \\\n",
      "0  In the 22nd century, a paraplegic Marine is di...  150.437577   \n",
      "1  Captain Barbossa, long believed to be dead, ha...  139.082615   \n",
      "2  A cryptic message from Bond’s past sends him o...  107.376788   \n",
      "3  Following the death of District Attorney Harve...  112.312950   \n",
      "4  John Carter is a war-weary, former military ca...   43.926995   \n",
      "5  The seemingly invincible Spider-Man goes up ag...  115.699814   \n",
      "6  When the kingdom's most wanted-and most charmi...   48.681969   \n",
      "7  When Tony Stark tries to jumpstart a dormant p...  134.279229   \n",
      "8  As Harry begins his sixth year at Hogwarts, he...   98.885637   \n",
      "9  Fearing the actions of a god-like Super Hero l...  155.790452   \n",
      "\n",
      "                                production_companies  \\\n",
      "0  [{\"name\": \"Ingenious Film Partners\", \"id\": 289...   \n",
      "1  [{\"name\": \"Walt Disney Pictures\", \"id\": 2}, {\"...   \n",
      "2  [{\"name\": \"Columbia Pictures\", \"id\": 5}, {\"nam...   \n",
      "3  [{\"name\": \"Legendary Pictures\", \"id\": 923}, {\"...   \n",
      "4        [{\"name\": \"Walt Disney Pictures\", \"id\": 2}]   \n",
      "5  [{\"name\": \"Columbia Pictures\", \"id\": 5}, {\"nam...   \n",
      "6  [{\"name\": \"Walt Disney Pictures\", \"id\": 2}, {\"...   \n",
      "7  [{\"name\": \"Marvel Studios\", \"id\": 420}, {\"name...   \n",
      "8  [{\"name\": \"Warner Bros.\", \"id\": 6194}, {\"name\"...   \n",
      "9  [{\"name\": \"DC Comics\", \"id\": 429}, {\"name\": \"A...   \n",
      "\n",
      "                                production_countries release_date     revenue  \\\n",
      "0  [{\"iso_3166_1\": \"US\", \"name\": \"United States o...   2009-12-10  2787965087   \n",
      "1  [{\"iso_3166_1\": \"US\", \"name\": \"United States o...   2007-05-19   961000000   \n",
      "2  [{\"iso_3166_1\": \"GB\", \"name\": \"United Kingdom\"...   2015-10-26   880674609   \n",
      "3  [{\"iso_3166_1\": \"US\", \"name\": \"United States o...   2012-07-16  1084939099   \n",
      "4  [{\"iso_3166_1\": \"US\", \"name\": \"United States o...   2012-03-07   284139100   \n",
      "5  [{\"iso_3166_1\": \"US\", \"name\": \"United States o...   2007-05-01   890871626   \n",
      "6  [{\"iso_3166_1\": \"US\", \"name\": \"United States o...   2010-11-24   591794936   \n",
      "7  [{\"iso_3166_1\": \"US\", \"name\": \"United States o...   2015-04-22  1405403694   \n",
      "8  [{\"iso_3166_1\": \"GB\", \"name\": \"United Kingdom\"...   2009-07-07   933959197   \n",
      "9  [{\"iso_3166_1\": \"US\", \"name\": \"United States o...   2016-03-23   873260194   \n",
      "\n",
      "   runtime                                   spoken_languages    status  \\\n",
      "0    162.0  [{\"iso_639_1\": \"en\", \"name\": \"English\"}, {\"iso...  Released   \n",
      "1    169.0           [{\"iso_639_1\": \"en\", \"name\": \"English\"}]  Released   \n",
      "2    148.0  [{\"iso_639_1\": \"fr\", \"name\": \"Fran\\u00e7ais\"},...  Released   \n",
      "3    165.0           [{\"iso_639_1\": \"en\", \"name\": \"English\"}]  Released   \n",
      "4    132.0           [{\"iso_639_1\": \"en\", \"name\": \"English\"}]  Released   \n",
      "5    139.0  [{\"iso_639_1\": \"en\", \"name\": \"English\"}, {\"iso...  Released   \n",
      "6    100.0           [{\"iso_639_1\": \"en\", \"name\": \"English\"}]  Released   \n",
      "7    141.0           [{\"iso_639_1\": \"en\", \"name\": \"English\"}]  Released   \n",
      "8    153.0           [{\"iso_639_1\": \"en\", \"name\": \"English\"}]  Released   \n",
      "9    151.0           [{\"iso_639_1\": \"en\", \"name\": \"English\"}]  Released   \n",
      "\n",
      "                                          tagline  \\\n",
      "0                     Enter the World of Pandora.   \n",
      "1  At the end of the world, the adventure begins.   \n",
      "2                           A Plan No One Escapes   \n",
      "3                                 The Legend Ends   \n",
      "4            Lost in our world, found in another.   \n",
      "5                              The battle within.   \n",
      "6        They're taking adventure to new lengths.   \n",
      "7                             A New Age Has Come.   \n",
      "8                           Dark Secrets Revealed   \n",
      "9                              Justice or revenge   \n",
      "\n",
      "                                      title  vote_average  vote_count  \n",
      "0                                    Avatar           7.2       11800  \n",
      "1  Pirates of the Caribbean: At World's End           6.9        4500  \n",
      "2                                   Spectre           6.3        4466  \n",
      "3                     The Dark Knight Rises           7.6        9106  \n",
      "4                               John Carter           6.1        2124  \n",
      "5                              Spider-Man 3           5.9        3576  \n",
      "6                                   Tangled           7.4        3330  \n",
      "7                   Avengers: Age of Ultron           7.3        6767  \n",
      "8    Harry Potter and the Half-Blood Prince           7.4        5293  \n",
      "9        Batman v Superman: Dawn of Justice           5.7        7004  \n"
     ]
    }
   ],
   "source": [
    "print(df.head(10))\n",
    "\n"
   ]
  },
  {
   "cell_type": "code",
   "execution_count": 5,
   "id": "11d0e718-967f-4e7e-9e84-f03190f610e8",
   "metadata": {},
   "outputs": [
    {
     "data": {
      "text/plain": [
       "(4803, 20)"
      ]
     },
     "execution_count": 5,
     "metadata": {},
     "output_type": "execute_result"
    }
   ],
   "source": [
    "df.shape"
   ]
  },
  {
   "cell_type": "code",
   "execution_count": 6,
   "id": "bed0c6a2",
   "metadata": {},
   "outputs": [
    {
     "data": {
      "text/html": [
       "<div>\n",
       "<style scoped>\n",
       "    .dataframe tbody tr th:only-of-type {\n",
       "        vertical-align: middle;\n",
       "    }\n",
       "\n",
       "    .dataframe tbody tr th {\n",
       "        vertical-align: top;\n",
       "    }\n",
       "\n",
       "    .dataframe thead th {\n",
       "        text-align: right;\n",
       "    }\n",
       "</style>\n",
       "<table border=\"1\" class=\"dataframe\">\n",
       "  <thead>\n",
       "    <tr style=\"text-align: right;\">\n",
       "      <th></th>\n",
       "      <th>budget</th>\n",
       "      <th>genres</th>\n",
       "      <th>homepage</th>\n",
       "      <th>id</th>\n",
       "      <th>keywords</th>\n",
       "      <th>original_language</th>\n",
       "      <th>original_title</th>\n",
       "      <th>overview</th>\n",
       "      <th>popularity</th>\n",
       "      <th>production_companies</th>\n",
       "      <th>production_countries</th>\n",
       "      <th>release_date</th>\n",
       "      <th>revenue</th>\n",
       "      <th>runtime</th>\n",
       "      <th>spoken_languages</th>\n",
       "      <th>status</th>\n",
       "      <th>tagline</th>\n",
       "      <th>title</th>\n",
       "      <th>vote_average</th>\n",
       "      <th>vote_count</th>\n",
       "    </tr>\n",
       "  </thead>\n",
       "  <tbody>\n",
       "    <tr>\n",
       "      <th>0</th>\n",
       "      <td>237000000</td>\n",
       "      <td>[{\"id\": 28, \"name\": \"Action\"}, {\"id\": 12, \"nam...</td>\n",
       "      <td>http://www.avatarmovie.com/</td>\n",
       "      <td>19995</td>\n",
       "      <td>[{\"id\": 1463, \"name\": \"culture clash\"}, {\"id\":...</td>\n",
       "      <td>en</td>\n",
       "      <td>Avatar</td>\n",
       "      <td>In the 22nd century, a paraplegic Marine is di...</td>\n",
       "      <td>150.437577</td>\n",
       "      <td>[{\"name\": \"Ingenious Film Partners\", \"id\": 289...</td>\n",
       "      <td>[{\"iso_3166_1\": \"US\", \"name\": \"United States o...</td>\n",
       "      <td>2009-12-10</td>\n",
       "      <td>2787965087</td>\n",
       "      <td>162.0</td>\n",
       "      <td>[{\"iso_639_1\": \"en\", \"name\": \"English\"}, {\"iso...</td>\n",
       "      <td>Released</td>\n",
       "      <td>Enter the World of Pandora.</td>\n",
       "      <td>Avatar</td>\n",
       "      <td>7.2</td>\n",
       "      <td>11800</td>\n",
       "    </tr>\n",
       "    <tr>\n",
       "      <th>1</th>\n",
       "      <td>300000000</td>\n",
       "      <td>[{\"id\": 12, \"name\": \"Adventure\"}, {\"id\": 14, \"...</td>\n",
       "      <td>http://disney.go.com/disneypictures/pirates/</td>\n",
       "      <td>285</td>\n",
       "      <td>[{\"id\": 270, \"name\": \"ocean\"}, {\"id\": 726, \"na...</td>\n",
       "      <td>en</td>\n",
       "      <td>Pirates of the Caribbean: At World's End</td>\n",
       "      <td>Captain Barbossa, long believed to be dead, ha...</td>\n",
       "      <td>139.082615</td>\n",
       "      <td>[{\"name\": \"Walt Disney Pictures\", \"id\": 2}, {\"...</td>\n",
       "      <td>[{\"iso_3166_1\": \"US\", \"name\": \"United States o...</td>\n",
       "      <td>2007-05-19</td>\n",
       "      <td>961000000</td>\n",
       "      <td>169.0</td>\n",
       "      <td>[{\"iso_639_1\": \"en\", \"name\": \"English\"}]</td>\n",
       "      <td>Released</td>\n",
       "      <td>At the end of the world, the adventure begins.</td>\n",
       "      <td>Pirates of the Caribbean: At World's End</td>\n",
       "      <td>6.9</td>\n",
       "      <td>4500</td>\n",
       "    </tr>\n",
       "    <tr>\n",
       "      <th>2</th>\n",
       "      <td>245000000</td>\n",
       "      <td>[{\"id\": 28, \"name\": \"Action\"}, {\"id\": 12, \"nam...</td>\n",
       "      <td>http://www.sonypictures.com/movies/spectre/</td>\n",
       "      <td>206647</td>\n",
       "      <td>[{\"id\": 470, \"name\": \"spy\"}, {\"id\": 818, \"name...</td>\n",
       "      <td>en</td>\n",
       "      <td>Spectre</td>\n",
       "      <td>A cryptic message from Bond’s past sends him o...</td>\n",
       "      <td>107.376788</td>\n",
       "      <td>[{\"name\": \"Columbia Pictures\", \"id\": 5}, {\"nam...</td>\n",
       "      <td>[{\"iso_3166_1\": \"GB\", \"name\": \"United Kingdom\"...</td>\n",
       "      <td>2015-10-26</td>\n",
       "      <td>880674609</td>\n",
       "      <td>148.0</td>\n",
       "      <td>[{\"iso_639_1\": \"fr\", \"name\": \"Fran\\u00e7ais\"},...</td>\n",
       "      <td>Released</td>\n",
       "      <td>A Plan No One Escapes</td>\n",
       "      <td>Spectre</td>\n",
       "      <td>6.3</td>\n",
       "      <td>4466</td>\n",
       "    </tr>\n",
       "    <tr>\n",
       "      <th>3</th>\n",
       "      <td>250000000</td>\n",
       "      <td>[{\"id\": 28, \"name\": \"Action\"}, {\"id\": 80, \"nam...</td>\n",
       "      <td>http://www.thedarkknightrises.com/</td>\n",
       "      <td>49026</td>\n",
       "      <td>[{\"id\": 849, \"name\": \"dc comics\"}, {\"id\": 853,...</td>\n",
       "      <td>en</td>\n",
       "      <td>The Dark Knight Rises</td>\n",
       "      <td>Following the death of District Attorney Harve...</td>\n",
       "      <td>112.312950</td>\n",
       "      <td>[{\"name\": \"Legendary Pictures\", \"id\": 923}, {\"...</td>\n",
       "      <td>[{\"iso_3166_1\": \"US\", \"name\": \"United States o...</td>\n",
       "      <td>2012-07-16</td>\n",
       "      <td>1084939099</td>\n",
       "      <td>165.0</td>\n",
       "      <td>[{\"iso_639_1\": \"en\", \"name\": \"English\"}]</td>\n",
       "      <td>Released</td>\n",
       "      <td>The Legend Ends</td>\n",
       "      <td>The Dark Knight Rises</td>\n",
       "      <td>7.6</td>\n",
       "      <td>9106</td>\n",
       "    </tr>\n",
       "    <tr>\n",
       "      <th>4</th>\n",
       "      <td>260000000</td>\n",
       "      <td>[{\"id\": 28, \"name\": \"Action\"}, {\"id\": 12, \"nam...</td>\n",
       "      <td>http://movies.disney.com/john-carter</td>\n",
       "      <td>49529</td>\n",
       "      <td>[{\"id\": 818, \"name\": \"based on novel\"}, {\"id\":...</td>\n",
       "      <td>en</td>\n",
       "      <td>John Carter</td>\n",
       "      <td>John Carter is a war-weary, former military ca...</td>\n",
       "      <td>43.926995</td>\n",
       "      <td>[{\"name\": \"Walt Disney Pictures\", \"id\": 2}]</td>\n",
       "      <td>[{\"iso_3166_1\": \"US\", \"name\": \"United States o...</td>\n",
       "      <td>2012-03-07</td>\n",
       "      <td>284139100</td>\n",
       "      <td>132.0</td>\n",
       "      <td>[{\"iso_639_1\": \"en\", \"name\": \"English\"}]</td>\n",
       "      <td>Released</td>\n",
       "      <td>Lost in our world, found in another.</td>\n",
       "      <td>John Carter</td>\n",
       "      <td>6.1</td>\n",
       "      <td>2124</td>\n",
       "    </tr>\n",
       "  </tbody>\n",
       "</table>\n",
       "</div>"
      ],
      "text/plain": [
       "      budget                                             genres  \\\n",
       "0  237000000  [{\"id\": 28, \"name\": \"Action\"}, {\"id\": 12, \"nam...   \n",
       "1  300000000  [{\"id\": 12, \"name\": \"Adventure\"}, {\"id\": 14, \"...   \n",
       "2  245000000  [{\"id\": 28, \"name\": \"Action\"}, {\"id\": 12, \"nam...   \n",
       "3  250000000  [{\"id\": 28, \"name\": \"Action\"}, {\"id\": 80, \"nam...   \n",
       "4  260000000  [{\"id\": 28, \"name\": \"Action\"}, {\"id\": 12, \"nam...   \n",
       "\n",
       "                                       homepage      id  \\\n",
       "0                   http://www.avatarmovie.com/   19995   \n",
       "1  http://disney.go.com/disneypictures/pirates/     285   \n",
       "2   http://www.sonypictures.com/movies/spectre/  206647   \n",
       "3            http://www.thedarkknightrises.com/   49026   \n",
       "4          http://movies.disney.com/john-carter   49529   \n",
       "\n",
       "                                            keywords original_language  \\\n",
       "0  [{\"id\": 1463, \"name\": \"culture clash\"}, {\"id\":...                en   \n",
       "1  [{\"id\": 270, \"name\": \"ocean\"}, {\"id\": 726, \"na...                en   \n",
       "2  [{\"id\": 470, \"name\": \"spy\"}, {\"id\": 818, \"name...                en   \n",
       "3  [{\"id\": 849, \"name\": \"dc comics\"}, {\"id\": 853,...                en   \n",
       "4  [{\"id\": 818, \"name\": \"based on novel\"}, {\"id\":...                en   \n",
       "\n",
       "                             original_title  \\\n",
       "0                                    Avatar   \n",
       "1  Pirates of the Caribbean: At World's End   \n",
       "2                                   Spectre   \n",
       "3                     The Dark Knight Rises   \n",
       "4                               John Carter   \n",
       "\n",
       "                                            overview  popularity  \\\n",
       "0  In the 22nd century, a paraplegic Marine is di...  150.437577   \n",
       "1  Captain Barbossa, long believed to be dead, ha...  139.082615   \n",
       "2  A cryptic message from Bond’s past sends him o...  107.376788   \n",
       "3  Following the death of District Attorney Harve...  112.312950   \n",
       "4  John Carter is a war-weary, former military ca...   43.926995   \n",
       "\n",
       "                                production_companies  \\\n",
       "0  [{\"name\": \"Ingenious Film Partners\", \"id\": 289...   \n",
       "1  [{\"name\": \"Walt Disney Pictures\", \"id\": 2}, {\"...   \n",
       "2  [{\"name\": \"Columbia Pictures\", \"id\": 5}, {\"nam...   \n",
       "3  [{\"name\": \"Legendary Pictures\", \"id\": 923}, {\"...   \n",
       "4        [{\"name\": \"Walt Disney Pictures\", \"id\": 2}]   \n",
       "\n",
       "                                production_countries release_date     revenue  \\\n",
       "0  [{\"iso_3166_1\": \"US\", \"name\": \"United States o...   2009-12-10  2787965087   \n",
       "1  [{\"iso_3166_1\": \"US\", \"name\": \"United States o...   2007-05-19   961000000   \n",
       "2  [{\"iso_3166_1\": \"GB\", \"name\": \"United Kingdom\"...   2015-10-26   880674609   \n",
       "3  [{\"iso_3166_1\": \"US\", \"name\": \"United States o...   2012-07-16  1084939099   \n",
       "4  [{\"iso_3166_1\": \"US\", \"name\": \"United States o...   2012-03-07   284139100   \n",
       "\n",
       "   runtime                                   spoken_languages    status  \\\n",
       "0    162.0  [{\"iso_639_1\": \"en\", \"name\": \"English\"}, {\"iso...  Released   \n",
       "1    169.0           [{\"iso_639_1\": \"en\", \"name\": \"English\"}]  Released   \n",
       "2    148.0  [{\"iso_639_1\": \"fr\", \"name\": \"Fran\\u00e7ais\"},...  Released   \n",
       "3    165.0           [{\"iso_639_1\": \"en\", \"name\": \"English\"}]  Released   \n",
       "4    132.0           [{\"iso_639_1\": \"en\", \"name\": \"English\"}]  Released   \n",
       "\n",
       "                                          tagline  \\\n",
       "0                     Enter the World of Pandora.   \n",
       "1  At the end of the world, the adventure begins.   \n",
       "2                           A Plan No One Escapes   \n",
       "3                                 The Legend Ends   \n",
       "4            Lost in our world, found in another.   \n",
       "\n",
       "                                      title  vote_average  vote_count  \n",
       "0                                    Avatar           7.2       11800  \n",
       "1  Pirates of the Caribbean: At World's End           6.9        4500  \n",
       "2                                   Spectre           6.3        4466  \n",
       "3                     The Dark Knight Rises           7.6        9106  \n",
       "4                               John Carter           6.1        2124  "
      ]
     },
     "execution_count": 6,
     "metadata": {},
     "output_type": "execute_result"
    }
   ],
   "source": [
    "df.head()"
   ]
  },
  {
   "cell_type": "code",
   "execution_count": 7,
   "id": "0fa814ad",
   "metadata": {},
   "outputs": [
    {
     "data": {
      "text/html": [
       "<div>\n",
       "<style scoped>\n",
       "    .dataframe tbody tr th:only-of-type {\n",
       "        vertical-align: middle;\n",
       "    }\n",
       "\n",
       "    .dataframe tbody tr th {\n",
       "        vertical-align: top;\n",
       "    }\n",
       "\n",
       "    .dataframe thead th {\n",
       "        text-align: right;\n",
       "    }\n",
       "</style>\n",
       "<table border=\"1\" class=\"dataframe\">\n",
       "  <thead>\n",
       "    <tr style=\"text-align: right;\">\n",
       "      <th></th>\n",
       "      <th>budget</th>\n",
       "      <th>genres</th>\n",
       "      <th>homepage</th>\n",
       "      <th>id</th>\n",
       "      <th>keywords</th>\n",
       "      <th>original_language</th>\n",
       "      <th>original_title</th>\n",
       "      <th>overview</th>\n",
       "      <th>popularity</th>\n",
       "      <th>production_companies</th>\n",
       "      <th>production_countries</th>\n",
       "      <th>release_date</th>\n",
       "      <th>revenue</th>\n",
       "      <th>runtime</th>\n",
       "      <th>spoken_languages</th>\n",
       "      <th>status</th>\n",
       "      <th>tagline</th>\n",
       "      <th>title</th>\n",
       "      <th>vote_average</th>\n",
       "      <th>vote_count</th>\n",
       "    </tr>\n",
       "  </thead>\n",
       "  <tbody>\n",
       "    <tr>\n",
       "      <th>4798</th>\n",
       "      <td>220000</td>\n",
       "      <td>[{\"id\": 28, \"name\": \"Action\"}, {\"id\": 80, \"nam...</td>\n",
       "      <td>NaN</td>\n",
       "      <td>9367</td>\n",
       "      <td>[{\"id\": 5616, \"name\": \"united states\\u2013mexi...</td>\n",
       "      <td>es</td>\n",
       "      <td>El Mariachi</td>\n",
       "      <td>El Mariachi just wants to play his guitar and ...</td>\n",
       "      <td>14.269792</td>\n",
       "      <td>[{\"name\": \"Columbia Pictures\", \"id\": 5}]</td>\n",
       "      <td>[{\"iso_3166_1\": \"MX\", \"name\": \"Mexico\"}, {\"iso...</td>\n",
       "      <td>1992-09-04</td>\n",
       "      <td>2040920</td>\n",
       "      <td>81.0</td>\n",
       "      <td>[{\"iso_639_1\": \"es\", \"name\": \"Espa\\u00f1ol\"}]</td>\n",
       "      <td>Released</td>\n",
       "      <td>He didn't come looking for trouble, but troubl...</td>\n",
       "      <td>El Mariachi</td>\n",
       "      <td>6.6</td>\n",
       "      <td>238</td>\n",
       "    </tr>\n",
       "    <tr>\n",
       "      <th>4799</th>\n",
       "      <td>9000</td>\n",
       "      <td>[{\"id\": 35, \"name\": \"Comedy\"}, {\"id\": 10749, \"...</td>\n",
       "      <td>NaN</td>\n",
       "      <td>72766</td>\n",
       "      <td>[]</td>\n",
       "      <td>en</td>\n",
       "      <td>Newlyweds</td>\n",
       "      <td>A newlywed couple's honeymoon is upended by th...</td>\n",
       "      <td>0.642552</td>\n",
       "      <td>[]</td>\n",
       "      <td>[]</td>\n",
       "      <td>2011-12-26</td>\n",
       "      <td>0</td>\n",
       "      <td>85.0</td>\n",
       "      <td>[]</td>\n",
       "      <td>Released</td>\n",
       "      <td>A newlywed couple's honeymoon is upended by th...</td>\n",
       "      <td>Newlyweds</td>\n",
       "      <td>5.9</td>\n",
       "      <td>5</td>\n",
       "    </tr>\n",
       "    <tr>\n",
       "      <th>4800</th>\n",
       "      <td>0</td>\n",
       "      <td>[{\"id\": 35, \"name\": \"Comedy\"}, {\"id\": 18, \"nam...</td>\n",
       "      <td>http://www.hallmarkchannel.com/signedsealeddel...</td>\n",
       "      <td>231617</td>\n",
       "      <td>[{\"id\": 248, \"name\": \"date\"}, {\"id\": 699, \"nam...</td>\n",
       "      <td>en</td>\n",
       "      <td>Signed, Sealed, Delivered</td>\n",
       "      <td>\"Signed, Sealed, Delivered\" introduces a dedic...</td>\n",
       "      <td>1.444476</td>\n",
       "      <td>[{\"name\": \"Front Street Pictures\", \"id\": 3958}...</td>\n",
       "      <td>[{\"iso_3166_1\": \"US\", \"name\": \"United States o...</td>\n",
       "      <td>2013-10-13</td>\n",
       "      <td>0</td>\n",
       "      <td>120.0</td>\n",
       "      <td>[{\"iso_639_1\": \"en\", \"name\": \"English\"}]</td>\n",
       "      <td>Released</td>\n",
       "      <td>NaN</td>\n",
       "      <td>Signed, Sealed, Delivered</td>\n",
       "      <td>7.0</td>\n",
       "      <td>6</td>\n",
       "    </tr>\n",
       "    <tr>\n",
       "      <th>4801</th>\n",
       "      <td>0</td>\n",
       "      <td>[]</td>\n",
       "      <td>http://shanghaicalling.com/</td>\n",
       "      <td>126186</td>\n",
       "      <td>[]</td>\n",
       "      <td>en</td>\n",
       "      <td>Shanghai Calling</td>\n",
       "      <td>When ambitious New York attorney Sam is sent t...</td>\n",
       "      <td>0.857008</td>\n",
       "      <td>[]</td>\n",
       "      <td>[{\"iso_3166_1\": \"US\", \"name\": \"United States o...</td>\n",
       "      <td>2012-05-03</td>\n",
       "      <td>0</td>\n",
       "      <td>98.0</td>\n",
       "      <td>[{\"iso_639_1\": \"en\", \"name\": \"English\"}]</td>\n",
       "      <td>Released</td>\n",
       "      <td>A New Yorker in Shanghai</td>\n",
       "      <td>Shanghai Calling</td>\n",
       "      <td>5.7</td>\n",
       "      <td>7</td>\n",
       "    </tr>\n",
       "    <tr>\n",
       "      <th>4802</th>\n",
       "      <td>0</td>\n",
       "      <td>[{\"id\": 99, \"name\": \"Documentary\"}]</td>\n",
       "      <td>NaN</td>\n",
       "      <td>25975</td>\n",
       "      <td>[{\"id\": 1523, \"name\": \"obsession\"}, {\"id\": 224...</td>\n",
       "      <td>en</td>\n",
       "      <td>My Date with Drew</td>\n",
       "      <td>Ever since the second grade when he first saw ...</td>\n",
       "      <td>1.929883</td>\n",
       "      <td>[{\"name\": \"rusty bear entertainment\", \"id\": 87...</td>\n",
       "      <td>[{\"iso_3166_1\": \"US\", \"name\": \"United States o...</td>\n",
       "      <td>2005-08-05</td>\n",
       "      <td>0</td>\n",
       "      <td>90.0</td>\n",
       "      <td>[{\"iso_639_1\": \"en\", \"name\": \"English\"}]</td>\n",
       "      <td>Released</td>\n",
       "      <td>NaN</td>\n",
       "      <td>My Date with Drew</td>\n",
       "      <td>6.3</td>\n",
       "      <td>16</td>\n",
       "    </tr>\n",
       "  </tbody>\n",
       "</table>\n",
       "</div>"
      ],
      "text/plain": [
       "      budget                                             genres  \\\n",
       "4798  220000  [{\"id\": 28, \"name\": \"Action\"}, {\"id\": 80, \"nam...   \n",
       "4799    9000  [{\"id\": 35, \"name\": \"Comedy\"}, {\"id\": 10749, \"...   \n",
       "4800       0  [{\"id\": 35, \"name\": \"Comedy\"}, {\"id\": 18, \"nam...   \n",
       "4801       0                                                 []   \n",
       "4802       0                [{\"id\": 99, \"name\": \"Documentary\"}]   \n",
       "\n",
       "                                               homepage      id  \\\n",
       "4798                                                NaN    9367   \n",
       "4799                                                NaN   72766   \n",
       "4800  http://www.hallmarkchannel.com/signedsealeddel...  231617   \n",
       "4801                        http://shanghaicalling.com/  126186   \n",
       "4802                                                NaN   25975   \n",
       "\n",
       "                                               keywords original_language  \\\n",
       "4798  [{\"id\": 5616, \"name\": \"united states\\u2013mexi...                es   \n",
       "4799                                                 []                en   \n",
       "4800  [{\"id\": 248, \"name\": \"date\"}, {\"id\": 699, \"nam...                en   \n",
       "4801                                                 []                en   \n",
       "4802  [{\"id\": 1523, \"name\": \"obsession\"}, {\"id\": 224...                en   \n",
       "\n",
       "                 original_title  \\\n",
       "4798                El Mariachi   \n",
       "4799                  Newlyweds   \n",
       "4800  Signed, Sealed, Delivered   \n",
       "4801           Shanghai Calling   \n",
       "4802          My Date with Drew   \n",
       "\n",
       "                                               overview  popularity  \\\n",
       "4798  El Mariachi just wants to play his guitar and ...   14.269792   \n",
       "4799  A newlywed couple's honeymoon is upended by th...    0.642552   \n",
       "4800  \"Signed, Sealed, Delivered\" introduces a dedic...    1.444476   \n",
       "4801  When ambitious New York attorney Sam is sent t...    0.857008   \n",
       "4802  Ever since the second grade when he first saw ...    1.929883   \n",
       "\n",
       "                                   production_companies  \\\n",
       "4798           [{\"name\": \"Columbia Pictures\", \"id\": 5}]   \n",
       "4799                                                 []   \n",
       "4800  [{\"name\": \"Front Street Pictures\", \"id\": 3958}...   \n",
       "4801                                                 []   \n",
       "4802  [{\"name\": \"rusty bear entertainment\", \"id\": 87...   \n",
       "\n",
       "                                   production_countries release_date  revenue  \\\n",
       "4798  [{\"iso_3166_1\": \"MX\", \"name\": \"Mexico\"}, {\"iso...   1992-09-04  2040920   \n",
       "4799                                                 []   2011-12-26        0   \n",
       "4800  [{\"iso_3166_1\": \"US\", \"name\": \"United States o...   2013-10-13        0   \n",
       "4801  [{\"iso_3166_1\": \"US\", \"name\": \"United States o...   2012-05-03        0   \n",
       "4802  [{\"iso_3166_1\": \"US\", \"name\": \"United States o...   2005-08-05        0   \n",
       "\n",
       "      runtime                               spoken_languages    status  \\\n",
       "4798     81.0  [{\"iso_639_1\": \"es\", \"name\": \"Espa\\u00f1ol\"}]  Released   \n",
       "4799     85.0                                             []  Released   \n",
       "4800    120.0       [{\"iso_639_1\": \"en\", \"name\": \"English\"}]  Released   \n",
       "4801     98.0       [{\"iso_639_1\": \"en\", \"name\": \"English\"}]  Released   \n",
       "4802     90.0       [{\"iso_639_1\": \"en\", \"name\": \"English\"}]  Released   \n",
       "\n",
       "                                                tagline  \\\n",
       "4798  He didn't come looking for trouble, but troubl...   \n",
       "4799  A newlywed couple's honeymoon is upended by th...   \n",
       "4800                                                NaN   \n",
       "4801                           A New Yorker in Shanghai   \n",
       "4802                                                NaN   \n",
       "\n",
       "                          title  vote_average  vote_count  \n",
       "4798                El Mariachi           6.6         238  \n",
       "4799                  Newlyweds           5.9           5  \n",
       "4800  Signed, Sealed, Delivered           7.0           6  \n",
       "4801           Shanghai Calling           5.7           7  \n",
       "4802          My Date with Drew           6.3          16  "
      ]
     },
     "execution_count": 7,
     "metadata": {},
     "output_type": "execute_result"
    }
   ],
   "source": [
    "df.tail()"
   ]
  },
  {
   "cell_type": "code",
   "execution_count": 19,
   "id": "123c1dfb-31d3-46ee-8f3c-27691531b7b4",
   "metadata": {},
   "outputs": [
    {
     "name": "stdout",
     "output_type": "stream",
     "text": [
      "<class 'pandas.core.frame.DataFrame'>\n",
      "RangeIndex: 4803 entries, 0 to 4802\n",
      "Data columns (total 21 columns):\n",
      " #   Column                Non-Null Count  Dtype         \n",
      "---  ------                --------------  -----         \n",
      " 0   budget                4803 non-null   int64         \n",
      " 1   genres                4803 non-null   object        \n",
      " 2   homepage              4803 non-null   object        \n",
      " 3   id                    4803 non-null   int64         \n",
      " 4   keywords              4803 non-null   object        \n",
      " 5   original_language     4803 non-null   object        \n",
      " 6   original_title        4803 non-null   object        \n",
      " 7   overview              4803 non-null   object        \n",
      " 8   popularity            4803 non-null   float64       \n",
      " 9   production_companies  4803 non-null   object        \n",
      " 10  production_countries  4803 non-null   object        \n",
      " 11  release_date          4803 non-null   datetime64[ns]\n",
      " 12  revenue               4803 non-null   int64         \n",
      " 13  runtime               4803 non-null   float64       \n",
      " 14  spoken_languages      4803 non-null   object        \n",
      " 15  status                4803 non-null   object        \n",
      " 16  tagline               4803 non-null   object        \n",
      " 17  title                 4803 non-null   object        \n",
      " 18  vote_average          4803 non-null   float64       \n",
      " 19  vote_count            4803 non-null   int64         \n",
      " 20  release_year          4803 non-null   int32         \n",
      "dtypes: datetime64[ns](1), float64(3), int32(1), int64(4), object(12)\n",
      "memory usage: 769.4+ KB\n"
     ]
    }
   ],
   "source": [
    "df.info()"
   ]
  },
  {
   "cell_type": "markdown",
   "id": "1f10c844",
   "metadata": {},
   "source": [
    "##### Exploring data"
   ]
  },
  {
   "cell_type": "code",
   "execution_count": null,
   "id": "996e6200",
   "metadata": {},
   "outputs": [],
   "source": []
  },
  {
   "cell_type": "markdown",
   "id": "71816abe",
   "metadata": {},
   "source": [
    "### Check if any NANs in your dataset and fill them with a good filer ###"
   ]
  },
  {
   "cell_type": "code",
   "execution_count": null,
   "id": "fee35922",
   "metadata": {},
   "outputs": [],
   "source": []
  },
  {
   "cell_type": "code",
   "execution_count": 9,
   "id": "80c65e45",
   "metadata": {},
   "outputs": [
    {
     "data": {
      "text/plain": [
       "\"dataset.interpolate(method ='linear', limit_direction ='forward')\""
      ]
     },
     "execution_count": 9,
     "metadata": {},
     "output_type": "execute_result"
    }
   ],
   "source": [
    "\"\"\"\n",
    "We can fill the datasets by many ways. depending on the way we see the data. the filling method always depend on the \n",
    "understanding of the columns variables\n",
    "\"\"\"\n",
    "# mean is not always the best solution, if there is any outliers, it will be misleading. \n",
    "#more suitable with symmetric data distribution\n",
    "\"\"\"dataset.fillna(dataset.mean(), inplace = True) \"\"\"\n",
    "\n",
    "# median is a good solution with skewed data. but since we have categoricals variables I cannot use it\n",
    "\"\"\"dataset.fillna(dataset.median(), inplace = True)\"\"\"\n",
    "\n",
    "# also we can use linear interpolation to fill the nan data,\n",
    "# in this code snippet it will change the nan with the most suitable number, to follow the direction of increasing.\n",
    "\"\"\"dataset.interpolate(method ='linear', limit_direction ='forward')\"\"\""
   ]
  },
  {
   "cell_type": "code",
   "execution_count": 10,
   "id": "d6fa9b10",
   "metadata": {},
   "outputs": [
    {
     "name": "stdout",
     "output_type": "stream",
     "text": [
      "budget                     0\n",
      "genres                     0\n",
      "homepage                3091\n",
      "id                         0\n",
      "keywords                   0\n",
      "original_language          0\n",
      "original_title             0\n",
      "overview                   3\n",
      "popularity                 0\n",
      "production_companies       0\n",
      "production_countries       0\n",
      "release_date               1\n",
      "revenue                    0\n",
      "runtime                    2\n",
      "spoken_languages           0\n",
      "status                     0\n",
      "tagline                  844\n",
      "title                      0\n",
      "vote_average               0\n",
      "vote_count                 0\n",
      "dtype: int64\n"
     ]
    }
   ],
   "source": [
    "nan_count = df.isna().sum()\n",
    "print(nan_count)"
   ]
  },
  {
   "cell_type": "code",
   "execution_count": 11,
   "id": "145f44b0-617c-4eb3-b6ac-407fa9fe489f",
   "metadata": {},
   "outputs": [],
   "source": [
    "#علشان الاعمده من النوع النصي ف هنستحدم لوك\n",
    "df.fillna(df.mode().iloc[0], inplace=True)"
   ]
  },
  {
   "cell_type": "code",
   "execution_count": 12,
   "id": "0bea1363-3e9a-4d61-abb8-ec06125d6478",
   "metadata": {},
   "outputs": [
    {
     "name": "stdout",
     "output_type": "stream",
     "text": [
      "budget                  0\n",
      "genres                  0\n",
      "homepage                0\n",
      "id                      0\n",
      "keywords                0\n",
      "original_language       0\n",
      "original_title          0\n",
      "overview                0\n",
      "popularity              0\n",
      "production_companies    0\n",
      "production_countries    0\n",
      "release_date            0\n",
      "revenue                 0\n",
      "runtime                 0\n",
      "spoken_languages        0\n",
      "status                  0\n",
      "tagline                 0\n",
      "title                   0\n",
      "vote_average            0\n",
      "vote_count              0\n",
      "dtype: int64\n"
     ]
    }
   ],
   "source": [
    "#check\n",
    "print(df.isna().sum())"
   ]
  },
  {
   "cell_type": "code",
   "execution_count": 13,
   "id": "50f0b27c-1c9f-4768-b879-dd0bff66afb4",
   "metadata": {},
   "outputs": [],
   "source": [
    "df.dropna(axis =1 ,inplace = True)"
   ]
  },
  {
   "cell_type": "code",
   "execution_count": 18,
   "id": "a509d9c7-84d3-441c-98df-0057382cc660",
   "metadata": {},
   "outputs": [],
   "source": [
    "df['release_date'] = pd.to_datetime(df['release_date'], errors='coerce')\n",
    "df['release_year'] = df['release_date'].dt.year"
   ]
  },
  {
   "cell_type": "markdown",
   "id": "12f55f1b",
   "metadata": {},
   "source": [
    "### Discover the types of each columns and modify them if needed ###"
   ]
  },
  {
   "cell_type": "code",
   "execution_count": 20,
   "id": "b92120fe",
   "metadata": {},
   "outputs": [
    {
     "name": "stdout",
     "output_type": "stream",
     "text": [
      "budget                           int64\n",
      "genres                          object\n",
      "homepage                        object\n",
      "id                               int64\n",
      "keywords                        object\n",
      "original_language               object\n",
      "original_title                  object\n",
      "overview                        object\n",
      "popularity                     float64\n",
      "production_companies            object\n",
      "production_countries            object\n",
      "release_date            datetime64[ns]\n",
      "revenue                          int64\n",
      "runtime                        float64\n",
      "spoken_languages                object\n",
      "status                          object\n",
      "tagline                         object\n",
      "title                           object\n",
      "vote_average                   float64\n",
      "vote_count                       int64\n",
      "release_year                     int32\n",
      "dtype: object\n"
     ]
    }
   ],
   "source": [
    "print(df.dtypes)"
   ]
  },
  {
   "cell_type": "code",
   "execution_count": null,
   "id": "d14ff641-e7bf-4c3f-95e0-85d70ad65e02",
   "metadata": {},
   "outputs": [],
   "source": []
  },
  {
   "cell_type": "markdown",
   "id": "0d9cbbc6",
   "metadata": {},
   "source": [
    "### Give a very simple statistical analsys for the numerical columns ###"
   ]
  },
  {
   "cell_type": "code",
   "execution_count": 16,
   "id": "616b50c7-ef7f-4093-8e56-2c88a3297cf7",
   "metadata": {},
   "outputs": [
    {
     "data": {
      "text/html": [
       "<div>\n",
       "<style scoped>\n",
       "    .dataframe tbody tr th:only-of-type {\n",
       "        vertical-align: middle;\n",
       "    }\n",
       "\n",
       "    .dataframe tbody tr th {\n",
       "        vertical-align: top;\n",
       "    }\n",
       "\n",
       "    .dataframe thead th {\n",
       "        text-align: right;\n",
       "    }\n",
       "</style>\n",
       "<table border=\"1\" class=\"dataframe\">\n",
       "  <thead>\n",
       "    <tr style=\"text-align: right;\">\n",
       "      <th></th>\n",
       "      <th>budget</th>\n",
       "      <th>id</th>\n",
       "      <th>popularity</th>\n",
       "      <th>release_date</th>\n",
       "      <th>revenue</th>\n",
       "      <th>runtime</th>\n",
       "      <th>vote_average</th>\n",
       "      <th>vote_count</th>\n",
       "      <th>release_year</th>\n",
       "    </tr>\n",
       "  </thead>\n",
       "  <tbody>\n",
       "    <tr>\n",
       "      <th>count</th>\n",
       "      <td>4.803000e+03</td>\n",
       "      <td>4803.000000</td>\n",
       "      <td>4803.000000</td>\n",
       "      <td>4803</td>\n",
       "      <td>4.803000e+03</td>\n",
       "      <td>4803.000000</td>\n",
       "      <td>4803.000000</td>\n",
       "      <td>4803.000000</td>\n",
       "      <td>4803.000000</td>\n",
       "    </tr>\n",
       "    <tr>\n",
       "      <th>mean</th>\n",
       "      <td>2.904504e+07</td>\n",
       "      <td>57165.484281</td>\n",
       "      <td>21.492301</td>\n",
       "      <td>2002-12-28 05:15:42.161149440</td>\n",
       "      <td>8.226064e+07</td>\n",
       "      <td>106.868832</td>\n",
       "      <td>6.092172</td>\n",
       "      <td>690.217989</td>\n",
       "      <td>2002.469498</td>\n",
       "    </tr>\n",
       "    <tr>\n",
       "      <th>min</th>\n",
       "      <td>0.000000e+00</td>\n",
       "      <td>5.000000</td>\n",
       "      <td>0.000000</td>\n",
       "      <td>1916-09-04 00:00:00</td>\n",
       "      <td>0.000000e+00</td>\n",
       "      <td>0.000000</td>\n",
       "      <td>0.000000</td>\n",
       "      <td>0.000000</td>\n",
       "      <td>1916.000000</td>\n",
       "    </tr>\n",
       "    <tr>\n",
       "      <th>25%</th>\n",
       "      <td>7.900000e+05</td>\n",
       "      <td>9014.500000</td>\n",
       "      <td>4.668070</td>\n",
       "      <td>1999-07-14 00:00:00</td>\n",
       "      <td>0.000000e+00</td>\n",
       "      <td>94.000000</td>\n",
       "      <td>5.600000</td>\n",
       "      <td>54.000000</td>\n",
       "      <td>1999.000000</td>\n",
       "    </tr>\n",
       "    <tr>\n",
       "      <th>50%</th>\n",
       "      <td>1.500000e+07</td>\n",
       "      <td>14629.000000</td>\n",
       "      <td>12.921594</td>\n",
       "      <td>2005-10-05 00:00:00</td>\n",
       "      <td>1.917000e+07</td>\n",
       "      <td>103.000000</td>\n",
       "      <td>6.200000</td>\n",
       "      <td>235.000000</td>\n",
       "      <td>2005.000000</td>\n",
       "    </tr>\n",
       "    <tr>\n",
       "      <th>75%</th>\n",
       "      <td>4.000000e+07</td>\n",
       "      <td>58610.500000</td>\n",
       "      <td>28.313505</td>\n",
       "      <td>2011-02-16 00:00:00</td>\n",
       "      <td>9.291719e+07</td>\n",
       "      <td>117.500000</td>\n",
       "      <td>6.800000</td>\n",
       "      <td>737.000000</td>\n",
       "      <td>2011.000000</td>\n",
       "    </tr>\n",
       "    <tr>\n",
       "      <th>max</th>\n",
       "      <td>3.800000e+08</td>\n",
       "      <td>459488.000000</td>\n",
       "      <td>875.581305</td>\n",
       "      <td>2017-02-03 00:00:00</td>\n",
       "      <td>2.787965e+09</td>\n",
       "      <td>338.000000</td>\n",
       "      <td>10.000000</td>\n",
       "      <td>13752.000000</td>\n",
       "      <td>2017.000000</td>\n",
       "    </tr>\n",
       "    <tr>\n",
       "      <th>std</th>\n",
       "      <td>4.072239e+07</td>\n",
       "      <td>88694.614033</td>\n",
       "      <td>31.816650</td>\n",
       "      <td>NaN</td>\n",
       "      <td>1.628571e+08</td>\n",
       "      <td>22.609847</td>\n",
       "      <td>1.194612</td>\n",
       "      <td>1234.585891</td>\n",
       "      <td>12.413166</td>\n",
       "    </tr>\n",
       "  </tbody>\n",
       "</table>\n",
       "</div>"
      ],
      "text/plain": [
       "             budget             id   popularity  \\\n",
       "count  4.803000e+03    4803.000000  4803.000000   \n",
       "mean   2.904504e+07   57165.484281    21.492301   \n",
       "min    0.000000e+00       5.000000     0.000000   \n",
       "25%    7.900000e+05    9014.500000     4.668070   \n",
       "50%    1.500000e+07   14629.000000    12.921594   \n",
       "75%    4.000000e+07   58610.500000    28.313505   \n",
       "max    3.800000e+08  459488.000000   875.581305   \n",
       "std    4.072239e+07   88694.614033    31.816650   \n",
       "\n",
       "                        release_date       revenue      runtime  vote_average  \\\n",
       "count                           4803  4.803000e+03  4803.000000   4803.000000   \n",
       "mean   2002-12-28 05:15:42.161149440  8.226064e+07   106.868832      6.092172   \n",
       "min              1916-09-04 00:00:00  0.000000e+00     0.000000      0.000000   \n",
       "25%              1999-07-14 00:00:00  0.000000e+00    94.000000      5.600000   \n",
       "50%              2005-10-05 00:00:00  1.917000e+07   103.000000      6.200000   \n",
       "75%              2011-02-16 00:00:00  9.291719e+07   117.500000      6.800000   \n",
       "max              2017-02-03 00:00:00  2.787965e+09   338.000000     10.000000   \n",
       "std                              NaN  1.628571e+08    22.609847      1.194612   \n",
       "\n",
       "         vote_count  release_year  \n",
       "count   4803.000000   4803.000000  \n",
       "mean     690.217989   2002.469498  \n",
       "min        0.000000   1916.000000  \n",
       "25%       54.000000   1999.000000  \n",
       "50%      235.000000   2005.000000  \n",
       "75%      737.000000   2011.000000  \n",
       "max    13752.000000   2017.000000  \n",
       "std     1234.585891     12.413166  "
      ]
     },
     "execution_count": 16,
     "metadata": {},
     "output_type": "execute_result"
    }
   ],
   "source": [
    " statistical_analsys = df.describe()\n",
    "statistical_analsys"
   ]
  },
  {
   "cell_type": "code",
   "execution_count": null,
   "id": "0ecf153d",
   "metadata": {
    "scrolled": true
   },
   "outputs": [],
   "source": [
    "\n"
   ]
  },
  {
   "cell_type": "markdown",
   "id": "5f8e9b11",
   "metadata": {},
   "source": [
    "### Calculate the mean rate for [1999, 1980, 2004, 2017] the movies grouped by years ###"
   ]
  },
  {
   "cell_type": "code",
   "execution_count": 40,
   "id": "0d212174-0da9-40bd-958b-6304611673a0",
   "metadata": {},
   "outputs": [
    {
     "name": "stdout",
     "output_type": "stream",
     "text": [
      "year\n",
      "1980    6.609091\n",
      "1999    6.110526\n",
      "2004    6.104412\n",
      "2017    7.400000\n",
      "Name: vote_average, dtype: float64\n"
     ]
    }
   ],
   "source": [
    "target_years = [1999, 1980, 2004, 2017]\n",
    "df[\"year\"] =df[\"release_date\"].dt.year\n",
    "filtered_df = df[df[\"year\"].isin(target_years)]\n",
    "mean_ratings = filtered_df.groupby(\"year\")[\"vote_average\"].mean()\n",
    "print(mean_ratings)"
   ]
  },
  {
   "cell_type": "code",
   "execution_count": null,
   "id": "8f3bce53-d1b8-46d2-bb58-572ec57fed6f",
   "metadata": {},
   "outputs": [],
   "source": []
  },
  {
   "cell_type": "code",
   "execution_count": null,
   "id": "ad2663ea-eab5-4562-830d-40093aa8ffe3",
   "metadata": {},
   "outputs": [],
   "source": []
  },
  {
   "cell_type": "markdown",
   "id": "edf582bd",
   "metadata": {},
   "source": [
    "### Rearange the dataframe based on revenue - budget values ###"
   ]
  },
  {
   "cell_type": "code",
   "execution_count": 41,
   "id": "117093cb",
   "metadata": {
    "scrolled": true
   },
   "outputs": [
    {
     "name": "stdout",
     "output_type": "stream",
     "text": [
      "       budget                                             genres  \\\n",
      "0   237000000  [{\"id\": 28, \"name\": \"Action\"}, {\"id\": 12, \"nam...   \n",
      "25  200000000  [{\"id\": 18, \"name\": \"Drama\"}, {\"id\": 10749, \"n...   \n",
      "28  150000000  [{\"id\": 28, \"name\": \"Action\"}, {\"id\": 12, \"nam...   \n",
      "44  190000000                     [{\"id\": 28, \"name\": \"Action\"}]   \n",
      "16  220000000  [{\"id\": 878, \"name\": \"Science Fiction\"}, {\"id\"...   \n",
      "\n",
      "                             homepage      id  \\\n",
      "0         http://www.avatarmovie.com/   19995   \n",
      "25        http://www.titanicmovie.com     597   \n",
      "28      http://www.jurassicworld.com/  135397   \n",
      "44           http://www.furious7.com/  168259   \n",
      "16  http://marvel.com/avengers_movie/   24428   \n",
      "\n",
      "                                             keywords original_language  \\\n",
      "0   [{\"id\": 1463, \"name\": \"culture clash\"}, {\"id\":...                en   \n",
      "25  [{\"id\": 2580, \"name\": \"shipwreck\"}, {\"id\": 298...                en   \n",
      "28  [{\"id\": 1299, \"name\": \"monster\"}, {\"id\": 1718,...                en   \n",
      "44  [{\"id\": 830, \"name\": \"car race\"}, {\"id\": 3428,...                en   \n",
      "16  [{\"id\": 242, \"name\": \"new york\"}, {\"id\": 5539,...                en   \n",
      "\n",
      "    original_title                                           overview  \\\n",
      "0           Avatar  In the 22nd century, a paraplegic Marine is di...   \n",
      "25         Titanic  84 years later, a 101-year-old woman named Ros...   \n",
      "28  Jurassic World  Twenty-two years after the events of Jurassic ...   \n",
      "44       Furious 7  Deckard Shaw seeks revenge against Dominic Tor...   \n",
      "16    The Avengers  When an unexpected enemy emerges and threatens...   \n",
      "\n",
      "    popularity                               production_companies  ...  \\\n",
      "0   150.437577  [{\"name\": \"Ingenious Film Partners\", \"id\": 289...  ...   \n",
      "25  100.025899  [{\"name\": \"Paramount Pictures\", \"id\": 4}, {\"na...  ...   \n",
      "28  418.708552  [{\"name\": \"Universal Studios\", \"id\": 13}, {\"na...  ...   \n",
      "44  102.322217  [{\"name\": \"Universal Pictures\", \"id\": 33}, {\"n...  ...   \n",
      "16  144.448633  [{\"name\": \"Paramount Pictures\", \"id\": 4}, {\"na...  ...   \n",
      "\n",
      "      status                                    tagline           title  \\\n",
      "0   Released                Enter the World of Pandora.          Avatar   \n",
      "25  Released  Nothing on Earth could come between them.         Titanic   \n",
      "28  Released                          The park is open.  Jurassic World   \n",
      "44  Released                        Vengeance Hits Home       Furious 7   \n",
      "16  Released                    Some assembly required.    The Avengers   \n",
      "\n",
      "    vote_average vote_count release_year      profit  \\\n",
      "0            7.2      11800         2009  2550965087   \n",
      "25           7.5       7562         1997  1645034188   \n",
      "28           6.5       8662         2015  1363528810   \n",
      "44           7.3       4176         2015  1316249360   \n",
      "16           7.4      11776         2012  1299557910   \n",
      "\n",
      "                                  country_list  year  revenue_budget_diff  \n",
      "0   [United States of America, United Kingdom]  2009           2550965087  \n",
      "25                  [United States of America]  1997           1645034188  \n",
      "28                  [United States of America]  2015           1363528810  \n",
      "44           [Japan, United States of America]  2015           1316249360  \n",
      "16                  [United States of America]  2012           1299557910  \n",
      "\n",
      "[5 rows x 25 columns]\n"
     ]
    }
   ],
   "source": [
    "df['revenue_budget_diff'] = df['revenue'] - df['budget']\n",
    "df_sorted = df.sort_values(by='revenue_budget_diff', ascending=False)\n",
    "print(df_sorted.head())"
   ]
  },
  {
   "cell_type": "markdown",
   "id": "57d706a4",
   "metadata": {},
   "source": [
    "### Allocate the year with the largest movies released in ['Action', 'Romance'] ###"
   ]
  },
  {
   "cell_type": "code",
   "execution_count": 43,
   "id": "c24fb8e9-3467-4a46-81c5-05923f4d4c1c",
   "metadata": {},
   "outputs": [
    {
     "name": "stdout",
     "output_type": "stream",
     "text": [
      "The year with the most 'Action' or 'Romance' movies is 2009 with 108 movies.\n"
     ]
    }
   ],
   "source": [
    "filtered = df[df[\"genres\"].str.contains(\"Action|Romance\", case=False, na=False)]\n",
    "movies_per_year = filtered[\"year\"].value_counts().sort_values(ascending=False)\n",
    "most_active_year = movies_per_year.idxmax()\n",
    "count = movies_per_year.max()\n",
    "\n",
    "print(f\"The year with the most 'Action' or 'Romance' movies is {most_active_year} with {count} movies.\")"
   ]
  },
  {
   "cell_type": "code",
   "execution_count": null,
   "id": "3996c32d-674b-4c20-afc1-509595c8e871",
   "metadata": {},
   "outputs": [],
   "source": []
  },
  {
   "cell_type": "code",
   "execution_count": null,
   "id": "2a848a42-76e8-4cfe-ba83-55feb3b6d65a",
   "metadata": {},
   "outputs": [],
   "source": []
  },
  {
   "cell_type": "markdown",
   "id": "21446eed",
   "metadata": {},
   "source": [
    "### Find the movies with top 5 revenue - budget value ###"
   ]
  },
  {
   "cell_type": "code",
   "execution_count": 45,
   "id": "9c659eb7-12b7-4401-beb5-ace092564849",
   "metadata": {},
   "outputs": [
    {
     "name": "stdout",
     "output_type": "stream",
     "text": [
      "             title     budget     revenue      profit\n",
      "0           Avatar  237000000  2787965087  2550965087\n",
      "25         Titanic  200000000  1845034188  1645034188\n",
      "28  Jurassic World  150000000  1513528810  1363528810\n",
      "44       Furious 7  190000000  1506249360  1316249360\n",
      "16    The Avengers  220000000  1519557910  1299557910\n"
     ]
    }
   ],
   "source": [
    "print(df_sorted[[\"title\", \"budget\", \"revenue\", \"profit\"]].head(5))"
   ]
  },
  {
   "cell_type": "markdown",
   "id": "e90d6e26",
   "metadata": {},
   "source": [
    "### Find the year with the highest number of movies release ###"
   ]
  },
  {
   "cell_type": "code",
   "execution_count": 28,
   "id": "fd638931",
   "metadata": {},
   "outputs": [],
   "source": [
    "movies_per_year = df['release_year'].value_counts().sort_values(ascending=False)"
   ]
  },
  {
   "cell_type": "code",
   "execution_count": 29,
   "id": "8ae0da0e",
   "metadata": {
    "scrolled": true
   },
   "outputs": [],
   "source": [
    "top_year = movies_per_year.idxmax()\n",
    "top_count = movies_per_year.max()"
   ]
  },
  {
   "cell_type": "code",
   "execution_count": 30,
   "id": "6938fa04-ca8e-48f9-a3b2-aaf3195bd868",
   "metadata": {},
   "outputs": [
    {
     "name": "stdout",
     "output_type": "stream",
     "text": [
      "أكثر سنة تم فيها إصدار أفلام هي: 2009 بعدد أفلام: 247\n"
     ]
    }
   ],
   "source": [
    "print(f\"أكثر سنة تم فيها إصدار أفلام هي: {top_year} بعدد أفلام: {top_count}\")"
   ]
  },
  {
   "cell_type": "code",
   "execution_count": 31,
   "id": "11e1729c-1217-4fdb-b963-60838562b64e",
   "metadata": {},
   "outputs": [],
   "source": [
    "movies_per_year = df['release_year'].value_counts().sort_index()"
   ]
  },
  {
   "cell_type": "markdown",
   "id": "09dc39c8",
   "metadata": {},
   "source": [
    "### Find the top 2 countries with the highest production movies number ###"
   ]
  },
  {
   "cell_type": "code",
   "execution_count": null,
   "id": "6a1c8af2",
   "metadata": {},
   "outputs": [],
   "source": []
  },
  {
   "cell_type": "markdown",
   "id": "02264f2c",
   "metadata": {},
   "source": [
    "### Is there any relation between the runtime and average vote value ### **\n"
   ]
  },
  {
   "cell_type": "code",
   "execution_count": null,
   "id": "d6567765",
   "metadata": {},
   "outputs": [],
   "source": []
  },
  {
   "cell_type": "code",
   "execution_count": null,
   "id": "1f74d6f6",
   "metadata": {},
   "outputs": [],
   "source": []
  },
  {
   "cell_type": "markdown",
   "id": "9ab1e88e",
   "metadata": {},
   "source": [
    "### Find the top 5 movies with the highest rate, and find if there anything common between them. ###\n",
    "\n"
   ]
  },
  {
   "cell_type": "code",
   "execution_count": null,
   "id": "ac71514b",
   "metadata": {},
   "outputs": [],
   "source": [
    "\n",
    "\n"
   ]
  },
  {
   "cell_type": "code",
   "execution_count": null,
   "id": "3cdf969b",
   "metadata": {
    "scrolled": true
   },
   "outputs": [],
   "source": []
  },
  {
   "cell_type": "code",
   "execution_count": null,
   "id": "090806fc",
   "metadata": {},
   "outputs": [],
   "source": []
  },
  {
   "cell_type": "code",
   "execution_count": null,
   "id": "5894d041",
   "metadata": {},
   "outputs": [],
   "source": []
  },
  {
   "cell_type": "code",
   "execution_count": null,
   "id": "b26a4980",
   "metadata": {},
   "outputs": [],
   "source": []
  },
  {
   "cell_type": "code",
   "execution_count": null,
   "id": "20b4ab59",
   "metadata": {},
   "outputs": [],
   "source": []
  },
  {
   "cell_type": "code",
   "execution_count": null,
   "id": "b88715d9",
   "metadata": {},
   "outputs": [],
   "source": []
  },
  {
   "cell_type": "markdown",
   "id": "9958d3ea",
   "metadata": {},
   "source": [
    "### Find the most unsuccessful movie along time in terms of revenue - budget ###\n",
    "\n"
   ]
  },
  {
   "cell_type": "code",
   "execution_count": null,
   "id": "39eb9c98",
   "metadata": {
    "scrolled": true
   },
   "outputs": [],
   "source": []
  },
  {
   "cell_type": "markdown",
   "id": "017409d7",
   "metadata": {},
   "source": [
    "### Rearange the dataframe based on vote_average column values ###\n",
    "\n"
   ]
  },
  {
   "cell_type": "code",
   "execution_count": null,
   "id": "d5534675",
   "metadata": {
    "scrolled": true
   },
   "outputs": [],
   "source": []
  },
  {
   "cell_type": "markdown",
   "id": "7d304506",
   "metadata": {},
   "source": [
    "### Rearange the dataframe based on runtime column values ###\n",
    "\n"
   ]
  },
  {
   "cell_type": "code",
   "execution_count": null,
   "id": "4f12608e",
   "metadata": {
    "scrolled": true
   },
   "outputs": [],
   "source": []
  },
  {
   "cell_type": "markdown",
   "id": "1f665fac",
   "metadata": {},
   "source": [
    "### Find the top 5 successful years for the USA cinema based on the total income devided by number of movies  ###\n",
    "\n"
   ]
  },
  {
   "cell_type": "code",
   "execution_count": null,
   "id": "d1ff9315",
   "metadata": {
    "scrolled": true
   },
   "outputs": [],
   "source": []
  },
  {
   "cell_type": "markdown",
   "id": "aef73665",
   "metadata": {},
   "source": [
    "### Find the most succesfull movie in [USA, UK] ###\n",
    "\n"
   ]
  },
  {
   "cell_type": "code",
   "execution_count": null,
   "id": "03bfeff7",
   "metadata": {},
   "outputs": [],
   "source": []
  },
  {
   "cell_type": "code",
   "execution_count": null,
   "id": "1b66db5a",
   "metadata": {},
   "outputs": [],
   "source": []
  },
  {
   "cell_type": "markdown",
   "id": "44973df0",
   "metadata": {},
   "source": [
    "### In your opinion what is the highest variable that affects the revenue value (high coloration) ### PONUS\n",
    "\n"
   ]
  },
  {
   "cell_type": "code",
   "execution_count": null,
   "id": "662f16fd",
   "metadata": {},
   "outputs": [],
   "source": []
  },
  {
   "cell_type": "code",
   "execution_count": null,
   "id": "194ae58f",
   "metadata": {},
   "outputs": [],
   "source": []
  },
  {
   "cell_type": "markdown",
   "id": "51ed13e3",
   "metadata": {},
   "source": [
    "## Good Luck"
   ]
  }
 ],
 "metadata": {
  "kernelspec": {
   "display_name": "Python 3 (ipykernel)",
   "language": "python",
   "name": "python3"
  },
  "language_info": {
   "codemirror_mode": {
    "name": "ipython",
    "version": 3
   },
   "file_extension": ".py",
   "mimetype": "text/x-python",
   "name": "python",
   "nbconvert_exporter": "python",
   "pygments_lexer": "ipython3",
   "version": "3.13.2"
  }
 },
 "nbformat": 4,
 "nbformat_minor": 5
}
